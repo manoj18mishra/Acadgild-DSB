{
 "cells": [
  {
   "cell_type": "markdown",
   "metadata": {
    "collapsed": true
   },
   "source": [
    "## Install Jupyter notebook and run the first program and share the screenshot of the output."
   ]
  },
  {
   "cell_type": "code",
   "execution_count": 1,
   "metadata": {},
   "outputs": [
    {
     "name": "stdout",
     "output_type": "stream",
     "text": [
      "1 2 3 4 5 \n",
      "1 4 9 16 25 \n",
      "1 8 27 64 125 \n",
      "1 16 81 256 625 \n",
      "1 32 243 1024 3125 \n"
     ]
    }
   ],
   "source": [
    "x=range(1,6)\n",
    "r=1\n",
    "while r<=5:\n",
    "    for y in x:\n",
    "        print(y**r,end=\" \")\n",
    "    print(\"\")\n",
    "    r+=1"
   ]
  },
  {
   "cell_type": "code",
   "execution_count": null,
   "metadata": {},
   "outputs": [],
   "source": []
  }
 ],
 "metadata": {
  "kernelspec": {
   "display_name": "Python 3",
   "language": "python",
   "name": "python3"
  },
  "language_info": {
   "codemirror_mode": {
    "name": "ipython",
    "version": 3
   },
   "file_extension": ".py",
   "mimetype": "text/x-python",
   "name": "python",
   "nbconvert_exporter": "python",
   "pygments_lexer": "ipython3",
   "version": "3.6.5"
  }
 },
 "nbformat": 4,
 "nbformat_minor": 2
}
