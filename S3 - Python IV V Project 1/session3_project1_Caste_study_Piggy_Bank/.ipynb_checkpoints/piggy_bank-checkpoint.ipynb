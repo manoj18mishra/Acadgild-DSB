{
 "cells": [
  {
   "cell_type": "code",
   "execution_count": 1,
   "metadata": {},
   "outputs": [
    {
     "name": "stdout",
     "output_type": "stream",
     "text": [
      "\n",
      "Start or End : start\n",
      "Add, Withdraw or Check : add\n",
      "Add amount : 1000\n",
      "After adding, your balanbce is 1000.0 rupees\n",
      "\n",
      "\n",
      "Start or End : start\n",
      "Add, Withdraw or Check : withdraw\n",
      "Withdraw amount : 300\n",
      "After withdrawing, your balanbce is 700.0 rupees\n",
      "\n",
      "\n",
      "Start or End : start\n",
      "Add, Withdraw or Check : check\n",
      "Your current balanbce is 700.0 rupees\n",
      "\n",
      "\n",
      "Start or End : end\n",
      "\n"
     ]
    }
   ],
   "source": [
    "import piggy_bank\n",
    "pb=piggy_bank.piggy_bank()\n",
    "pb.start()"
   ]
  },
  {
   "cell_type": "code",
   "execution_count": null,
   "metadata": {},
   "outputs": [],
   "source": []
  }
 ],
 "metadata": {
  "kernelspec": {
   "display_name": "Python 3",
   "language": "python",
   "name": "python3"
  },
  "language_info": {
   "codemirror_mode": {
    "name": "ipython",
    "version": 3
   },
   "file_extension": ".py",
   "mimetype": "text/x-python",
   "name": "python",
   "nbconvert_exporter": "python",
   "pygments_lexer": "ipython3",
   "version": "3.6.5"
  }
 },
 "nbformat": 4,
 "nbformat_minor": 2
}
